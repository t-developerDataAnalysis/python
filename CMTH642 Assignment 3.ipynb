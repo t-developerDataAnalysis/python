{
 "cells": [
  {
   "cell_type": "code",
   "execution_count": null,
   "metadata": {
    "id": "x6xla78gNoqs"
   },
   "outputs": [],
   "source": [
    "# INSERT YOUR ANSWER HERE"
   ]
  },
  {
   "cell_type": "markdown",
   "metadata": {
    "id": "TX_-QfCapg5r"
   },
   "source": [
    "## CMTH642 - Data Analytics: Advanced Methods  \n",
    "### Assignment 3 \n"
   ]
  },
  {
   "cell_type": "markdown",
   "metadata": {
    "id": "KPUF4R_NlrMT"
   },
   "source": [
    "Assignment 3 is worth 10% of the final grade. Submit the ipynb file and a generated output file (PDF or HTML). Failing to submit both files will be subject to a mark deduction.\n",
    "\n",
    "Your output file should include all the tables, plots, and requested figures/values. \n",
    "\n",
    "Printing the lengthy outputs (e.g., the whole data frame or a list with more than 100 elements) will have a deduction of 5 points. Instead, please use head() or tail() to have a neat output. \n",
    "\n",
    "If you preprocess the data in a question, you should continue with the same dataset in the following questions unless otherwise mentioned.\n"
   ]
  },
  {
   "cell_type": "markdown",
   "metadata": {
    "id": "s2h0BVIqmIpE"
   },
   "source": [
    "### Preparation: \n",
    "\n",
    "The dataset is related to Portuguese \"Vinho Verde\" wines. For more info:\n",
    "https://archive.ics.uci.edu/ml/datasets/Wine+Quality\n",
    "\n",
    "Import the following files:\n",
    "http://archive.ics.uci.edu/ml/machine-learning-databases/wine-quality/winequality-white.csv    \n",
    "http://archive.ics.uci.edu/ml/machine-learning-databases/wine-quality/winequality-red.csv\n"
   ]
  },
  {
   "cell_type": "markdown",
   "metadata": {
    "id": "xm7GwIpdH12O"
   },
   "source": [
    "### Question 1\n",
    "Join the red wine and white wine datasets by adding the rows of one to the other. Assign the joined data to a data frame and name it wine_data_all. (2 points)\n",
    "\n",
    "The following questions will be answered for wine_data_all.\n",
    "\n"
   ]
  },
  {
   "cell_type": "code",
   "execution_count": null,
   "metadata": {
    "id": "FmAnHsBkNfoa"
   },
   "outputs": [],
   "source": [
    "# INSERT YOUR ANSWER HERE"
   ]
  },
  {
   "cell_type": "markdown",
   "metadata": {
    "id": "_s6g0tee67kr"
   },
   "source": [
    "### Question 2\n",
    "Check the data types of the attributes. (2 points)"
   ]
  },
  {
   "cell_type": "code",
   "execution_count": null,
   "metadata": {
    "id": "PtwZ55_KNq5l"
   },
   "outputs": [],
   "source": [
    "# INSERT YOUR ANSWER HERE"
   ]
  },
  {
   "cell_type": "markdown",
   "metadata": {
    "id": "xAvoOQnu67kv"
   },
   "source": [
    "### Question 3\n",
    "Are there any missing values in the dataset? How many? You should not print the whole dataset. (2 points)"
   ]
  },
  {
   "cell_type": "code",
   "execution_count": null,
   "metadata": {
    "id": "H_x5heGtNup3"
   },
   "outputs": [],
   "source": [
    "# INSERT YOUR ANSWER HERE"
   ]
  },
  {
   "cell_type": "markdown",
   "metadata": {
    "id": "TnITuRoZ67kw"
   },
   "source": [
    "### Question 4\n",
    "What is the correlation between the attributes other than Quality? (8 points)"
   ]
  },
  {
   "cell_type": "code",
   "execution_count": null,
   "metadata": {
    "id": "OBNJFgKrNt8t"
   },
   "outputs": [],
   "source": [
    "# INSERT YOUR ANSWER HERE"
   ]
  },
  {
   "cell_type": "markdown",
   "metadata": {
    "id": "DVh2ZDUr67ky"
   },
   "source": [
    "### Question 5\n",
    "Plot the frequency distribution of wine quality by using the Quality attribute. (8 points)"
   ]
  },
  {
   "cell_type": "code",
   "execution_count": null,
   "metadata": {
    "id": "cTS30S-ONzCA"
   },
   "outputs": [],
   "source": [
    "# INSERT YOUR ANSWER HERE"
   ]
  },
  {
   "cell_type": "markdown",
   "metadata": {
    "id": "-rwkqF6f67k0"
   },
   "source": [
    "### Question 6\n",
    "Reduce the levels of rating for quality to two levels, Pass and Fail. Assign the levels 3, 4, and 5 to level Fail; and 6, 7, 8, and 9 to level Pass. (10\n",
    "points)"
   ]
  },
  {
   "cell_type": "code",
   "execution_count": null,
   "metadata": {
    "id": "X-RWR6X8NyK8"
   },
   "outputs": [],
   "source": [
    "# INSERT YOUR ANSWER HERE"
   ]
  },
  {
   "cell_type": "markdown",
   "metadata": {
    "id": "Uw_zd-JM67k1"
   },
   "source": [
    "### Question 7\n",
    "Normalize the numeric attributes. Hint: (x - min(x)) / (max(x) - min(x)) (10 points)"
   ]
  },
  {
   "cell_type": "code",
   "execution_count": null,
   "metadata": {
    "id": "hw2B1opoN6eI"
   },
   "outputs": [],
   "source": [
    "# INSERT YOUR ANSWER HERE"
   ]
  },
  {
   "cell_type": "markdown",
   "metadata": {
    "id": "t0MbenQb67k2"
   },
   "source": [
    "### Question 8\n",
    "Divide the dataset to training and test sets. (10 points)"
   ]
  },
  {
   "cell_type": "code",
   "execution_count": null,
   "metadata": {
    "id": "9CnlI4X7N4nQ"
   },
   "outputs": [],
   "source": [
    "# INSERT YOUR ANSWER HERE"
   ]
  },
  {
   "cell_type": "markdown",
   "metadata": {
    "id": "Z0-NvzsYno7l"
   },
   "source": [
    "### Question 9\n",
    "Use the Logistic Regression algorithm to predict the quality of wine using its attributes. (12 points)"
   ]
  },
  {
   "cell_type": "code",
   "execution_count": null,
   "metadata": {
    "id": "u7Zt02kjN29X"
   },
   "outputs": [],
   "source": [
    "# INSERT YOUR ANSWER HERE"
   ]
  },
  {
   "cell_type": "markdown",
   "metadata": {
    "id": "UtVW9Wqi67k5"
   },
   "source": [
    "### Question 10\n",
    "Use the KNN algorithm to predict the quality of wine using its attributes. (12 points)"
   ]
  },
  {
   "cell_type": "code",
   "execution_count": null,
   "metadata": {
    "id": "y_HYHeryN74o"
   },
   "outputs": [],
   "source": [
    "# INSERT YOUR ANSWER HERE"
   ]
  },
  {
   "cell_type": "markdown",
   "metadata": {
    "id": "5_QQUorI67k8"
   },
   "source": [
    "### Question 11\n",
    "Display two confusion matrices to evaluate the performances of Logistic Regression and KNN. (A simple matrix is enough. No need to plot it.) (12 points)"
   ]
  },
  {
   "cell_type": "code",
   "execution_count": null,
   "metadata": {
    "id": "ouA67eYaN96I"
   },
   "outputs": [],
   "source": [
    "# INSERT YOUR ANSWER HERE"
   ]
  },
  {
   "cell_type": "markdown",
   "metadata": {
    "id": "O0kvru8vIr5y"
   },
   "source": [
    "### Question 12\n",
    "Evaluate the models’ performances by computing Accuracy, Precision, and Recall. If you are using a package to calculate the values, you should explain what you understand from the output of the package by mentioning the exact accuracy, precision, and recall values in your own words. (12 points)\n"
   ]
  },
  {
   "cell_type": "code",
   "execution_count": null,
   "metadata": {
    "id": "UZXatoOkN_Bd"
   },
   "outputs": [],
   "source": [
    "# INSERT YOUR ANSWER HERE"
   ]
  },
  {
   "cell_type": "markdown",
   "metadata": {
    "id": "iIvLfsi-bz2Z"
   },
   "source": [
    "This is the end of Assignment 3\n",
    "\n",
    "Ceni Babaoglu, PhD"
   ]
  }
 ],
 "metadata": {
  "colab": {
   "collapsed_sections": [],
   "provenance": []
  },
  "kernelspec": {
   "display_name": "Python 3 (ipykernel)",
   "language": "python",
   "name": "python3"
  },
  "language_info": {
   "codemirror_mode": {
    "name": "ipython",
    "version": 3
   },
   "file_extension": ".py",
   "mimetype": "text/x-python",
   "name": "python",
   "nbconvert_exporter": "python",
   "pygments_lexer": "ipython3",
   "version": "3.9.2"
  }
 },
 "nbformat": 4,
 "nbformat_minor": 1
}
